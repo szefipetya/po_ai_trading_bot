{
 "cells": [
  {
   "cell_type": "code",
   "execution_count": 3,
   "metadata": {},
   "outputs": [
    {
     "data": {
      "text/plain": [
       "[5, 6, 7]"
      ]
     },
     "execution_count": 3,
     "metadata": {},
     "output_type": "execute_result"
    }
   ],
   "source": [
    "data=[1,2,3,4,5,6,7]\n",
    "data[-3:]"
   ]
  },
  {
   "cell_type": "code",
   "execution_count": 5,
   "metadata": {},
   "outputs": [
    {
     "data": {
      "text/plain": [
       "Date\n",
       "2020-04-23 00:00    False\n",
       "2020-04-23 01:00    False\n",
       "2020-04-23 02:00    False\n",
       "2020-04-23 03:00    False\n",
       "2020-04-23 04:00    False\n",
       "                    ...  \n",
       "2020-10-19 03:00    False\n",
       "2020-10-19 04:00    False\n",
       "2020-10-19 05:00    False\n",
       "2020-10-19 06:00    False\n",
       "2020-10-19 07:00    False\n",
       "Name: (14, Close), Length: 4300, dtype: bool"
      ]
     },
     "execution_count": 5,
     "metadata": {},
     "output_type": "execute_result"
    }
   ],
   "source": [
    "import numpy as np\n",
    "import pandas as pd\n",
    "from datetime import datetime\n",
    "import vectorbt as vbt\n",
    "\n",
    "btc_price = pd.read_csv(\"../pricedata.csv\")[[\"Date\",\"Close\"]]\n",
    "#btc_price[\"Date\"] = pd.to_datetime( btc_price[\"timestamp\"], unit = \"s\")\n",
    "\n",
    "btc_price = btc_price.set_index(\"Date\")[\"Close\"]\n",
    "btc_price\n",
    "rsi = vbt.RSI.run(btc_price, window = 14, short_name=\"rsi\")\n",
    "entries = rsi.rsi_crossed_below(30)\n",
    "entries"
   ]
  }
 ],
 "metadata": {
  "kernelspec": {
   "display_name": "Python 3.8.10 64-bit (windows store)",
   "language": "python",
   "name": "python3"
  },
  "language_info": {
   "codemirror_mode": {
    "name": "ipython",
    "version": 3
   },
   "file_extension": ".py",
   "mimetype": "text/x-python",
   "name": "python",
   "nbconvert_exporter": "python",
   "pygments_lexer": "ipython3",
   "version": "3.8.10"
  },
  "orig_nbformat": 4,
  "vscode": {
   "interpreter": {
    "hash": "39dbefba252a347ed671747b09cb3f80ddb51e92bf84e2fc57e421c77f5a720a"
   }
  }
 },
 "nbformat": 4,
 "nbformat_minor": 2
}
