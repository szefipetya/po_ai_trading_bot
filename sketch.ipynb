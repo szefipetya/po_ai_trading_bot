{
 "cells": [
  {
   "cell_type": "code",
   "execution_count": 3,
   "metadata": {},
   "outputs": [
    {
     "data": {
      "text/plain": [
       "[5, 6, 7]"
      ]
     },
     "execution_count": 3,
     "metadata": {},
     "output_type": "execute_result"
    }
   ],
   "source": [
    "data=[1,2,3,4,5,6,7]\n",
    "data[-3:]"
   ]
  },
  {
   "cell_type": "code",
   "execution_count": 4,
   "metadata": {},
   "outputs": [
    {
     "data": {
      "text/html": [
       "<div>\n",
       "<style scoped>\n",
       "    .dataframe tbody tr th:only-of-type {\n",
       "        vertical-align: middle;\n",
       "    }\n",
       "\n",
       "    .dataframe tbody tr th {\n",
       "        vertical-align: top;\n",
       "    }\n",
       "\n",
       "    .dataframe thead th {\n",
       "        text-align: right;\n",
       "    }\n",
       "</style>\n",
       "<table border=\"1\" class=\"dataframe\">\n",
       "  <thead>\n",
       "    <tr style=\"text-align: right;\">\n",
       "      <th></th>\n",
       "      <th>unix</th>\n",
       "      <th>Date</th>\n",
       "      <th>symbol</th>\n",
       "      <th>Open</th>\n",
       "      <th>High</th>\n",
       "      <th>Low</th>\n",
       "      <th>Close</th>\n",
       "      <th>Volume BTC</th>\n",
       "      <th>Volume</th>\n",
       "      <th>tradecount</th>\n",
       "    </tr>\n",
       "  </thead>\n",
       "  <tbody>\n",
       "    <tr>\n",
       "      <th>43243</th>\n",
       "      <td>1.502957e+09</td>\n",
       "      <td>2017-08-17 08:00</td>\n",
       "      <td>BTC/USDT</td>\n",
       "      <td>4349.99</td>\n",
       "      <td>4377.85</td>\n",
       "      <td>4333.32</td>\n",
       "      <td>4360.69</td>\n",
       "      <td>0.9499</td>\n",
       "      <td>4139.70</td>\n",
       "      <td>NaN</td>\n",
       "    </tr>\n",
       "    <tr>\n",
       "      <th>43244</th>\n",
       "      <td>1.502953e+09</td>\n",
       "      <td>2017-08-17 07:00</td>\n",
       "      <td>BTC/USDT</td>\n",
       "      <td>4324.35</td>\n",
       "      <td>4349.99</td>\n",
       "      <td>4287.41</td>\n",
       "      <td>4349.99</td>\n",
       "      <td>4.4400</td>\n",
       "      <td>19241.06</td>\n",
       "      <td>NaN</td>\n",
       "    </tr>\n",
       "    <tr>\n",
       "      <th>43245</th>\n",
       "      <td>1.502950e+09</td>\n",
       "      <td>2017-08-17 06:00</td>\n",
       "      <td>BTC/USDT</td>\n",
       "      <td>4315.32</td>\n",
       "      <td>4345.45</td>\n",
       "      <td>4309.37</td>\n",
       "      <td>4324.35</td>\n",
       "      <td>7.2300</td>\n",
       "      <td>31282.31</td>\n",
       "      <td>NaN</td>\n",
       "    </tr>\n",
       "    <tr>\n",
       "      <th>43246</th>\n",
       "      <td>1.502946e+09</td>\n",
       "      <td>2017-08-17 05:00</td>\n",
       "      <td>BTC/USDT</td>\n",
       "      <td>4308.83</td>\n",
       "      <td>4328.69</td>\n",
       "      <td>4291.37</td>\n",
       "      <td>4315.32</td>\n",
       "      <td>23.2300</td>\n",
       "      <td>100304.82</td>\n",
       "      <td>NaN</td>\n",
       "    </tr>\n",
       "    <tr>\n",
       "      <th>43247</th>\n",
       "      <td>1.502942e+09</td>\n",
       "      <td>2017-08-17 04:00</td>\n",
       "      <td>BTC/USDT</td>\n",
       "      <td>16199.91</td>\n",
       "      <td>16199.91</td>\n",
       "      <td>4261.32</td>\n",
       "      <td>4308.83</td>\n",
       "      <td>44.5100</td>\n",
       "      <td>190952.85</td>\n",
       "      <td>NaN</td>\n",
       "    </tr>\n",
       "  </tbody>\n",
       "</table>\n",
       "</div>"
      ],
      "text/plain": [
       "               unix              Date    symbol      Open      High      Low  \\\n",
       "43243  1.502957e+09  2017-08-17 08:00  BTC/USDT   4349.99   4377.85  4333.32   \n",
       "43244  1.502953e+09  2017-08-17 07:00  BTC/USDT   4324.35   4349.99  4287.41   \n",
       "43245  1.502950e+09  2017-08-17 06:00  BTC/USDT   4315.32   4345.45  4309.37   \n",
       "43246  1.502946e+09  2017-08-17 05:00  BTC/USDT   4308.83   4328.69  4291.37   \n",
       "43247  1.502942e+09  2017-08-17 04:00  BTC/USDT  16199.91  16199.91  4261.32   \n",
       "\n",
       "         Close  Volume BTC     Volume  tradecount  \n",
       "43243  4360.69      0.9499    4139.70         NaN  \n",
       "43244  4349.99      4.4400   19241.06         NaN  \n",
       "43245  4324.35      7.2300   31282.31         NaN  \n",
       "43246  4315.32     23.2300  100304.82         NaN  \n",
       "43247  4308.83     44.5100  190952.85         NaN  "
      ]
     },
     "execution_count": 4,
     "metadata": {},
     "output_type": "execute_result"
    }
   ],
   "source": [
    "import numpy as np\n",
    "import pandas as pd\n",
    "from datetime import datetime\n",
    "import vectorbt as vbt\n",
    "TIME_FORMAT = '%Y-%m-%d %H:%M'\n",
    "\n",
    "df = pd.read_csv(\"./Binance_BTCUSDT_1h copy.csv\")\n",
    "df = df.rename(columns=\n",
    "{ \n",
    "    'Volume USDT': 'Volume',\n",
    "    'open': 'Open',\n",
    "    'high': 'High',\n",
    "    'low': 'Low',\n",
    "    'close': 'Close',\n",
    "    'date': 'Date',\n",
    "    }\n",
    " )\n",
    "\n",
    "#correct price anomaly\n",
    "df['unix'] = df['unix'].apply(lambda x: x/1000 if x>100000000000 else x)\n",
    "\n",
    "df[\"Date\"] = pd.to_datetime( df[\"unix\"], unit = \"s\").dt.strftime(TIME_FORMAT)\n",
    "df.tail()\n",
    "\n",
    "\n"
   ]
  },
  {
   "cell_type": "code",
   "execution_count": 5,
   "metadata": {},
   "outputs": [],
   "source": [
    "df.to_csv('pricedata_long.csv', sep=',')\n"
   ]
  }
 ],
 "metadata": {
  "kernelspec": {
   "display_name": "Python 3.8.10 64-bit (windows store)",
   "language": "python",
   "name": "python3"
  },
  "language_info": {
   "codemirror_mode": {
    "name": "ipython",
    "version": 3
   },
   "file_extension": ".py",
   "mimetype": "text/x-python",
   "name": "python",
   "nbconvert_exporter": "python",
   "pygments_lexer": "ipython3",
   "version": "3.8.10"
  },
  "orig_nbformat": 4,
  "vscode": {
   "interpreter": {
    "hash": "39dbefba252a347ed671747b09cb3f80ddb51e92bf84e2fc57e421c77f5a720a"
   }
  }
 },
 "nbformat": 4,
 "nbformat_minor": 2
}
